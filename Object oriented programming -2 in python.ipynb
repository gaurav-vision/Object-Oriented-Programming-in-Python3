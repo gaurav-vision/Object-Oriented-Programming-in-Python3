{
 "cells": [
  {
   "cell_type": "code",
   "execution_count": 4,
   "metadata": {},
   "outputs": [],
   "source": [
    "# __init__ serve as constructor. python but it is not a constructor and python doesnot keep destructor like others\n",
    "  #it is use to initialize some methods or attributes in the class"
   ]
  },
  {
   "cell_type": "code",
   "execution_count": 6,
   "metadata": {},
   "outputs": [
    {
     "name": "stdout",
     "output_type": "stream",
     "text": [
      "200\n",
      "red\n",
      "the __init__ is called\n",
      "250\n",
      "blue\n",
      "the __init__ is called\n",
      "300\n",
      "black\n",
      "the __init__ is called\n",
      "200\n",
      "red\n"
     ]
    }
   ],
   "source": [
    "class Car:\n",
    "    def __init__(self, speed, color):                     \n",
    "        print(speed)\n",
    "        print(color)\n",
    "        self.speed = speed\n",
    "        self.color = color\n",
    "        print('the __init__ is called')       \n",
    "        \n",
    "ford = Car(200, 'red')\n",
    "honda = Car(250, 'blue')\n",
    "audi = Car(300, 'black')\n",
    "\n",
    "print(ford.speed)\n",
    "print(ford.color)"
   ]
  },
  {
   "cell_type": "code",
   "execution_count": 7,
   "metadata": {},
   "outputs": [
    {
     "name": "stdout",
     "output_type": "stream",
     "text": [
      "1200\n",
      "2000\n"
     ]
    }
   ],
   "source": [
    "class Rectangle:\n",
    "    def __init__(self, height, width):\n",
    "        self.height = height\n",
    "        self.width = width\n",
    "        \n",
    "rect1 = Rectangle(20, 60)\n",
    "rect2 = Rectangle(50, 40)\n",
    "\n",
    "print(rect1.height * rect1.width)\n",
    "print(rect2.height * rect2.width)"
   ]
  },
  {
   "cell_type": "code",
   "execution_count": 9,
   "metadata": {},
   "outputs": [
    {
     "ename": "TypeError",
     "evalue": "__init__() takes 0 positional arguments but 1 was given",
     "output_type": "error",
     "traceback": [
      "\u001b[0;31m---------------------------------------------------------------------------\u001b[0m",
      "\u001b[0;31mTypeError\u001b[0m                                 Traceback (most recent call last)",
      "\u001b[0;32m<ipython-input-9-69e3be6e54b8>\u001b[0m in \u001b[0;36m<module>\u001b[0;34m\u001b[0m\n\u001b[1;32m      2\u001b[0m     \u001b[0;32mdef\u001b[0m \u001b[0m__init__\u001b[0m\u001b[0;34m(\u001b[0m\u001b[0;34m)\u001b[0m\u001b[0;34m:\u001b[0m\u001b[0;34m\u001b[0m\u001b[0;34m\u001b[0m\u001b[0m\n\u001b[1;32m      3\u001b[0m         \u001b[0mprint\u001b[0m\u001b[0;34m(\u001b[0m\u001b[0;34m'Hello world'\u001b[0m\u001b[0;34m)\u001b[0m\u001b[0;34m\u001b[0m\u001b[0;34m\u001b[0m\u001b[0m\n\u001b[0;32m----> 4\u001b[0;31m \u001b[0mhello\u001b[0m \u001b[0;34m=\u001b[0m \u001b[0mHello\u001b[0m\u001b[0;34m(\u001b[0m\u001b[0;34m)\u001b[0m\u001b[0;34m\u001b[0m\u001b[0;34m\u001b[0m\u001b[0m\n\u001b[0m",
      "\u001b[0;31mTypeError\u001b[0m: __init__() takes 0 positional arguments but 1 was given"
     ]
    }
   ],
   "source": [
    "class Hello:\n",
    "    def __init__():\n",
    "        print('Hello world')\n",
    "hello = Hello()"
   ]
  },
  {
   "cell_type": "code",
   "execution_count": 10,
   "metadata": {},
   "outputs": [
    {
     "name": "stdout",
     "output_type": "stream",
     "text": [
      "Hello world\n"
     ]
    }
   ],
   "source": [
    "class Hello:\n",
    "    def __init__(self):\n",
    "        print('Hello world')\n",
    "hello = Hello()"
   ]
  },
  {
   "cell_type": "code",
   "execution_count": 12,
   "metadata": {},
   "outputs": [
    {
     "ename": "TypeError",
     "evalue": "__init__() missing 1 required positional argument: 'name'",
     "output_type": "error",
     "traceback": [
      "\u001b[0;31m---------------------------------------------------------------------------\u001b[0m",
      "\u001b[0;31mTypeError\u001b[0m                                 Traceback (most recent call last)",
      "\u001b[0;32m<ipython-input-12-c170c9344b78>\u001b[0m in \u001b[0;36m<module>\u001b[0;34m\u001b[0m\n\u001b[1;32m      2\u001b[0m     \u001b[0;32mdef\u001b[0m \u001b[0m__init__\u001b[0m\u001b[0;34m(\u001b[0m\u001b[0mself\u001b[0m\u001b[0;34m)\u001b[0m\u001b[0;34m:\u001b[0m \u001b[0;32mpass\u001b[0m\u001b[0;34m\u001b[0m\u001b[0;34m\u001b[0m\u001b[0m\n\u001b[1;32m      3\u001b[0m     \u001b[0;32mdef\u001b[0m \u001b[0m__init__\u001b[0m\u001b[0;34m(\u001b[0m\u001b[0mself\u001b[0m\u001b[0;34m,\u001b[0m \u001b[0mname\u001b[0m\u001b[0;34m)\u001b[0m\u001b[0;34m:\u001b[0m \u001b[0;32mpass\u001b[0m\u001b[0;34m\u001b[0m\u001b[0;34m\u001b[0m\u001b[0m\n\u001b[0;32m----> 4\u001b[0;31m \u001b[0mhello\u001b[0m \u001b[0;34m=\u001b[0m \u001b[0mHello\u001b[0m\u001b[0;34m(\u001b[0m\u001b[0;34m)\u001b[0m\u001b[0;34m\u001b[0m\u001b[0;34m\u001b[0m\u001b[0m\n\u001b[0m",
      "\u001b[0;31mTypeError\u001b[0m: __init__() missing 1 required positional argument: 'name'"
     ]
    }
   ],
   "source": [
    "class Hello:\n",
    "    def __init__(self): pass\n",
    "    def __init__(self, name): pass\n",
    "hello = Hello()\n",
    "\n",
    "#it means it is cosidering the second object and over-\n",
    "#lapping it cosidering second one so pass name in it."
   ]
  },
  {
   "cell_type": "code",
   "execution_count": 14,
   "metadata": {},
   "outputs": [],
   "source": [
    "class Hello:\n",
    "    def __init__(self): pass\n",
    "    def __init__(self, name): pass\n",
    "hello = Hello('name')\n",
    "\n",
    "\n",
    "#means it is not allowing multiple init in class. if we\n",
    "# do it then it will consider last one only"
   ]
  },
  {
   "cell_type": "code",
   "execution_count": 18,
   "metadata": {},
   "outputs": [],
   "source": [
    "class Hello:\n",
    "    def __init__(self, *args):pass\n",
    "\n",
    "hello = Hello()\n",
    "hello = Hello('name')\n",
    "hello = Hello('name', 'gaurav', 'lily')\n",
    "\n",
    "# *args represent the multiple arguments we are providing to object.\n",
    "# if you want to use multiple parameter you can use either *args, **kwargs"
   ]
  },
  {
   "cell_type": "code",
   "execution_count": 20,
   "metadata": {},
   "outputs": [],
   "source": [
    "class Hello:\n",
    "    def __init__(self, name):\n",
    "        self.name = name\n",
    "        self.age = 10\n",
    "hello = Hello('name')\n",
    "\n",
    "#here we are seeing that i am not sending the age attributes to object but we can \n",
    "# initialize it there\n"
   ]
  },
  {
   "cell_type": "markdown",
   "metadata": {},
   "source": [
    "### Incapsulation in python"
   ]
  },
  {
   "cell_type": "code",
   "execution_count": 24,
   "metadata": {},
   "outputs": [
    {
     "name": "stdout",
     "output_type": "stream",
     "text": [
      "400\n",
      "red\n"
     ]
    }
   ],
   "source": [
    "class Car:\n",
    "    def __init__(self, speed, color):\n",
    "        self.speed = speed\n",
    "        self.color = color\n",
    "        \n",
    "    def set_speed(self, value):\n",
    "        self.speed = value\n",
    "        \n",
    "    def get_speed(self):\n",
    "        return self.speed\n",
    "\n",
    "ford = Car(200, 'red')\n",
    "honda = Car(250, 'blue')\n",
    "audi = Car(300, 'black')\n",
    "\n",
    "ford.set_speed(300)\n",
    "ford.speed = 400\n",
    "print(ford.speed)\n",
    "print(ford.color)"
   ]
  },
  {
   "cell_type": "code",
   "execution_count": 25,
   "metadata": {},
   "outputs": [
    {
     "name": "stdout",
     "output_type": "stream",
     "text": [
      "10\n",
      "20\n"
     ]
    },
    {
     "ename": "AttributeError",
     "evalue": "'Hello' object has no attribute '__c'",
     "output_type": "error",
     "traceback": [
      "\u001b[0;31m---------------------------------------------------------------------------\u001b[0m",
      "\u001b[0;31mAttributeError\u001b[0m                            Traceback (most recent call last)",
      "\u001b[0;32m<ipython-input-25-aa57629ddddd>\u001b[0m in \u001b[0;36m<module>\u001b[0;34m\u001b[0m\n\u001b[1;32m      8\u001b[0m \u001b[0mprint\u001b[0m\u001b[0;34m(\u001b[0m\u001b[0mhello\u001b[0m\u001b[0;34m.\u001b[0m\u001b[0ma\u001b[0m\u001b[0;34m)\u001b[0m\u001b[0;34m\u001b[0m\u001b[0;34m\u001b[0m\u001b[0m\n\u001b[1;32m      9\u001b[0m \u001b[0mprint\u001b[0m\u001b[0;34m(\u001b[0m\u001b[0mhello\u001b[0m\u001b[0;34m.\u001b[0m\u001b[0m_b\u001b[0m\u001b[0;34m)\u001b[0m\u001b[0;34m\u001b[0m\u001b[0;34m\u001b[0m\u001b[0m\n\u001b[0;32m---> 10\u001b[0;31m \u001b[0mprint\u001b[0m\u001b[0;34m(\u001b[0m\u001b[0mhello\u001b[0m\u001b[0;34m.\u001b[0m\u001b[0m__c\u001b[0m\u001b[0;34m)\u001b[0m\u001b[0;34m\u001b[0m\u001b[0;34m\u001b[0m\u001b[0m\n\u001b[0m",
      "\u001b[0;31mAttributeError\u001b[0m: 'Hello' object has no attribute '__c'"
     ]
    }
   ],
   "source": [
    "class Hello:\n",
    "    def __init__(self, name):\n",
    "        self.a = 10\n",
    "        self._b = 20\n",
    "        self.__c = 30\n",
    "        \n",
    "hello = Hello('name')\n",
    "print(hello.a)\n",
    "print(hello._b)\n",
    "print(hello.__c)\n",
    "\n",
    "#  __ use to keep our data totally private.\n"
   ]
  },
  {
   "cell_type": "code",
   "execution_count": 28,
   "metadata": {},
   "outputs": [
    {
     "name": "stdout",
     "output_type": "stream",
     "text": [
      "1200\n",
      "1500\n"
     ]
    }
   ],
   "source": [
    "class Rectangle:\n",
    "    def __init__(self, height, width):\n",
    "        self.__height = height\n",
    "        self.__width = width\n",
    "    def set_height(self, height):\n",
    "        self.__height = height\n",
    "    def get_height(self):\n",
    "        return self.__height\n",
    "    def set_width(self, width):\n",
    "        self._width = width\n",
    "    def get_width(self):\n",
    "        return self.__width\n",
    "    def area(self):\n",
    "        return self.__height * self.__width\n",
    "    \n",
    "rect1 = Rectangle(20, 60)\n",
    "rect2 = Rectangle(30, 50)\n",
    "\n",
    "print(rect1.area())\n",
    "print(rect2.area())"
   ]
  },
  {
   "cell_type": "markdown",
   "metadata": {},
   "source": [
    "To make a private number variable we use __ infornt of variable. so private variable can only we use inside the class. outside of class we can not use it."
   ]
  },
  {
   "cell_type": "code",
   "execution_count": 34,
   "metadata": {},
   "outputs": [
    {
     "name": "stdout",
     "output_type": "stream",
     "text": [
      "10\n",
      "20\n",
      "10\n",
      "30\n",
      "Hello world\n",
      "private\n"
     ]
    }
   ],
   "source": [
    "class Hello:\n",
    "    def __init__(self, name):\n",
    "        self.a = 10\n",
    "        self._b = 20\n",
    "        self.__c = 30\n",
    "    def public_method(self):\n",
    "        self.__c\n",
    "        print(self.a)\n",
    "        print(self.__c)\n",
    "        print('Hello world')\n",
    "        self.__private_method()\n",
    "        \n",
    "    def __private_method(self):\n",
    "        print('private')\n",
    "hello = Hello('name')\n",
    "print(hello.a)\n",
    "print(hello._b)\n",
    "hello.public_method()\n",
    "#hello.__private_method()\n",
    "#print(hello.__c)\n",
    "\n",
    "# public variable is we can use inside the class and \n",
    "# outside the class. whereas private variable we can\n",
    "# use only within the class"
   ]
  },
  {
   "cell_type": "code",
   "execution_count": null,
   "metadata": {},
   "outputs": [],
   "source": []
  }
 ],
 "metadata": {
  "kernelspec": {
   "display_name": "Python 3",
   "language": "python",
   "name": "python3"
  },
  "language_info": {
   "codemirror_mode": {
    "name": "ipython",
    "version": 3
   },
   "file_extension": ".py",
   "mimetype": "text/x-python",
   "name": "python",
   "nbconvert_exporter": "python",
   "pygments_lexer": "ipython3",
   "version": "3.7.6"
  }
 },
 "nbformat": 4,
 "nbformat_minor": 4
}
