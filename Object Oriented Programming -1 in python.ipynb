{
 "cells": [
  {
   "cell_type": "markdown",
   "metadata": {},
   "source": [
    "Why OOP\n",
    "In traditional programming we define different differnt function they are seprate from each other. so like if a global data want to feed in function then for each function we feed them seprately.\n",
    "\n",
    "unit is called class. centered on creating object. \n",
    "Class represent the as blueprint in which we have data and methods\n",
    "Object:- A single software unit that combines data and methods. data in an object is called attributes. \n",
    "procedure/function in object are known as methods.\n",
    "when we use function inside the class called methods"
   ]
  },
  {
   "cell_type": "markdown",
   "metadata": {},
   "source": [
    "Difference between procedural and oop programming language\n",
    "\n",
    "The basic unit in procedural programming is called function and the basic unit in the oop programming language is called class.\n",
    "\n",
    "In procedural programming language the data and functions both are different, but in case of oops both will come in the class in the form of attributes and methods.\n",
    "\n"
   ]
  },
  {
   "cell_type": "code",
   "execution_count": 2,
   "metadata": {},
   "outputs": [
    {
     "name": "stdout",
     "output_type": "stream",
     "text": [
      "200\n",
      "red\n",
      "300\n",
      "green\n"
     ]
    }
   ],
   "source": [
    "class Car:\n",
    "    pass                # it means the class car is an empty class\n",
    "\n",
    "ford = Car()\n",
    "honda = Car()\n",
    "audi = Car()\n",
    "\n",
    "ford.speed = 200        # speed is an attributes.\n",
    "honda.speed = 220\n",
    "audi.speed = 250\n",
    "\n",
    "ford.color = 'red'       # color is also an attributes\n",
    "honda.color = 'blue'\n",
    "audi.color = 'black'\n",
    "\n",
    "print(ford.speed)\n",
    "print(ford.color)\n",
    "\n",
    "#we can change the attributes\n",
    "\n",
    "ford.speed = 300\n",
    "ford.color = 'green'\n",
    "\n",
    "print(ford.speed)\n",
    "print(ford.color)"
   ]
  },
  {
   "cell_type": "code",
   "execution_count": 3,
   "metadata": {},
   "outputs": [
    {
     "name": "stdout",
     "output_type": "stream",
     "text": [
      "Area of rectangle 1 is  800\n",
      "Area of rectangle 2 is  300\n"
     ]
    }
   ],
   "source": [
    "class Rectangle:\n",
    "    pass\n",
    "\n",
    "rect1 = Rectangle()   #object 1\n",
    "rect2 = Rectangle()   #object 2\n",
    "\n",
    "rect1.height = 20     #attribute 1\n",
    "rect2.height = 30     \n",
    "\n",
    "rect1.width = 40      #attribute 2\n",
    "rect2.width = 10\n",
    "\n",
    "print('Area of rectangle 1 is ', rect1.height * rect1.width)\n",
    "print('Area of rectangle 2 is ', rect2.height * rect2.width)\n",
    " "
   ]
  },
  {
   "cell_type": "code",
   "execution_count": null,
   "metadata": {},
   "outputs": [],
   "source": []
  }
 ],
 "metadata": {
  "kernelspec": {
   "display_name": "Python 3",
   "language": "python",
   "name": "python3"
  },
  "language_info": {
   "codemirror_mode": {
    "name": "ipython",
    "version": 3
   },
   "file_extension": ".py",
   "mimetype": "text/x-python",
   "name": "python",
   "nbconvert_exporter": "python",
   "pygments_lexer": "ipython3",
   "version": "3.7.6"
  }
 },
 "nbformat": 4,
 "nbformat_minor": 4
}
